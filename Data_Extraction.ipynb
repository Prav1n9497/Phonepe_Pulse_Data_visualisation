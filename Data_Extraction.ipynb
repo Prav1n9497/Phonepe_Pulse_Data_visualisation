{
  "cells": [
    {
      "cell_type": "markdown",
      "id": "30d9505d-9f30-4548-9b78-d7d26f478471",
      "metadata": {
        "id": "30d9505d-9f30-4548-9b78-d7d26f478471",
        "jp-MarkdownHeadingCollapsed": true,
        "tags": []
      },
      "source": [
        "## Importing Libraries"
      ]
    },
    {
      "cell_type": "markdown",
      "id": "mRfE_R2M11Zm",
      "metadata": {
        "id": "mRfE_R2M11Zm"
      },
      "source": []
    },
    {
      "cell_type": "code",
      "execution_count": 1,
      "id": "NcEeh4pA2dJO",
      "metadata": {
        "colab": {
          "base_uri": "https://localhost:8080/"
        },
        "id": "NcEeh4pA2dJO",
        "outputId": "898f813c-e9d0-4cd1-cf37-b5b3efe5fceb"
      },
      "outputs": [
        {
          "name": "stdout",
          "output_type": "stream",
          "text": [
            "Requirement already satisfied: streamlit in b:\\project\\env\\lib\\site-packages (1.26.0)\n",
            "Requirement already satisfied: altair<6,>=4.0 in b:\\project\\env\\lib\\site-packages (from streamlit) (5.3.0)\n",
            "Requirement already satisfied: blinker<2,>=1.0.0 in b:\\project\\env\\lib\\site-packages (from streamlit) (1.8.1)\n",
            "Requirement already satisfied: cachetools<6,>=4.0 in b:\\project\\env\\lib\\site-packages (from streamlit) (5.3.3)\n",
            "Requirement already satisfied: click<9,>=7.0 in b:\\project\\env\\lib\\site-packages (from streamlit) (8.1.7)\n",
            "Requirement already satisfied: importlib-metadata<7,>=1.4 in b:\\project\\env\\lib\\site-packages (from streamlit) (6.11.0)\n",
            "Requirement already satisfied: numpy<2,>=1.19.3 in b:\\project\\env\\lib\\site-packages (from streamlit) (1.24.4)\n",
            "Requirement already satisfied: packaging<24,>=16.8 in b:\\project\\env\\lib\\site-packages (from streamlit) (23.2)\n",
            "Requirement already satisfied: pandas<3,>=1.3.0 in b:\\project\\env\\lib\\site-packages (from streamlit) (2.0.3)\n",
            "Requirement already satisfied: pillow<10,>=7.1.0 in b:\\project\\env\\lib\\site-packages (from streamlit) (9.5.0)\n",
            "Requirement already satisfied: protobuf<5,>=3.20 in b:\\project\\env\\lib\\site-packages (from streamlit) (4.25.3)\n",
            "Requirement already satisfied: pyarrow>=6.0 in b:\\project\\env\\lib\\site-packages (from streamlit) (16.0.0)\n",
            "Requirement already satisfied: pympler<2,>=0.9 in b:\\project\\env\\lib\\site-packages (from streamlit) (1.0.1)\n",
            "Requirement already satisfied: python-dateutil<3,>=2.7.3 in b:\\project\\env\\lib\\site-packages (from streamlit) (2.9.0.post0)\n",
            "Requirement already satisfied: requests<3,>=2.18 in b:\\project\\env\\lib\\site-packages (from streamlit) (2.31.0)\n",
            "Requirement already satisfied: rich<14,>=10.14.0 in b:\\project\\env\\lib\\site-packages (from streamlit) (13.7.1)\n",
            "Requirement already satisfied: tenacity<9,>=8.1.0 in b:\\project\\env\\lib\\site-packages (from streamlit) (8.2.3)\n",
            "Requirement already satisfied: toml<2,>=0.10.1 in b:\\project\\env\\lib\\site-packages (from streamlit) (0.10.2)\n",
            "Requirement already satisfied: typing-extensions<5,>=4.1.0 in b:\\project\\env\\lib\\site-packages (from streamlit) (4.11.0)\n",
            "Requirement already satisfied: tzlocal<5,>=1.1 in b:\\project\\env\\lib\\site-packages (from streamlit) (4.3.1)\n",
            "Requirement already satisfied: validators<1,>=0.2 in b:\\project\\env\\lib\\site-packages (from streamlit) (0.28.1)\n",
            "Requirement already satisfied: gitpython!=3.1.19,<4,>=3.0.7 in b:\\project\\env\\lib\\site-packages (from streamlit) (3.1.43)\n",
            "Requirement already satisfied: pydeck<1,>=0.8 in b:\\project\\env\\lib\\site-packages (from streamlit) (0.9.0)\n",
            "Requirement already satisfied: tornado<7,>=6.0.3 in b:\\project\\env\\lib\\site-packages (from streamlit) (6.4)\n",
            "Requirement already satisfied: watchdog>=2.1.5 in b:\\project\\env\\lib\\site-packages (from streamlit) (4.0.0)\n",
            "Requirement already satisfied: jinja2 in b:\\project\\env\\lib\\site-packages (from altair<6,>=4.0->streamlit) (3.1.3)\n",
            "Requirement already satisfied: jsonschema>=3.0 in b:\\project\\env\\lib\\site-packages (from altair<6,>=4.0->streamlit) (4.22.0)\n",
            "Requirement already satisfied: toolz in b:\\project\\env\\lib\\site-packages (from altair<6,>=4.0->streamlit) (0.12.1)\n",
            "Requirement already satisfied: colorama in b:\\project\\env\\lib\\site-packages (from click<9,>=7.0->streamlit) (0.4.6)\n",
            "Requirement already satisfied: gitdb<5,>=4.0.1 in b:\\project\\env\\lib\\site-packages (from gitpython!=3.1.19,<4,>=3.0.7->streamlit) (4.0.11)\n",
            "Requirement already satisfied: zipp>=0.5 in b:\\project\\env\\lib\\site-packages (from importlib-metadata<7,>=1.4->streamlit) (3.18.1)\n",
            "Requirement already satisfied: pytz>=2020.1 in b:\\project\\env\\lib\\site-packages (from pandas<3,>=1.3.0->streamlit) (2024.1)\n",
            "Requirement already satisfied: tzdata>=2022.1 in b:\\project\\env\\lib\\site-packages (from pandas<3,>=1.3.0->streamlit) (2024.1)\n",
            "Requirement already satisfied: six>=1.5 in b:\\project\\env\\lib\\site-packages (from python-dateutil<3,>=2.7.3->streamlit) (1.16.0)\n",
            "Requirement already satisfied: charset-normalizer<4,>=2 in b:\\project\\env\\lib\\site-packages (from requests<3,>=2.18->streamlit) (3.3.2)\n",
            "Requirement already satisfied: idna<4,>=2.5 in b:\\project\\env\\lib\\site-packages (from requests<3,>=2.18->streamlit) (3.7)\n",
            "Requirement already satisfied: urllib3<3,>=1.21.1 in b:\\project\\env\\lib\\site-packages (from requests<3,>=2.18->streamlit) (2.2.1)\n",
            "Requirement already satisfied: certifi>=2017.4.17 in b:\\project\\env\\lib\\site-packages (from requests<3,>=2.18->streamlit) (2024.2.2)\n",
            "Requirement already satisfied: markdown-it-py>=2.2.0 in b:\\project\\env\\lib\\site-packages (from rich<14,>=10.14.0->streamlit) (3.0.0)\n",
            "Requirement already satisfied: pygments<3.0.0,>=2.13.0 in b:\\project\\env\\lib\\site-packages (from rich<14,>=10.14.0->streamlit) (2.18.0)\n",
            "Requirement already satisfied: pytz-deprecation-shim in b:\\project\\env\\lib\\site-packages (from tzlocal<5,>=1.1->streamlit) (0.1.0.post0)\n",
            "Requirement already satisfied: backports.zoneinfo in b:\\project\\env\\lib\\site-packages (from tzlocal<5,>=1.1->streamlit) (0.2.1)\n",
            "Requirement already satisfied: smmap<6,>=3.0.1 in b:\\project\\env\\lib\\site-packages (from gitdb<5,>=4.0.1->gitpython!=3.1.19,<4,>=3.0.7->streamlit) (5.0.1)\n",
            "Requirement already satisfied: MarkupSafe>=2.0 in b:\\project\\env\\lib\\site-packages (from jinja2->altair<6,>=4.0->streamlit) (2.1.5)\n",
            "Requirement already satisfied: attrs>=22.2.0 in b:\\project\\env\\lib\\site-packages (from jsonschema>=3.0->altair<6,>=4.0->streamlit) (23.2.0)\n",
            "Requirement already satisfied: importlib-resources>=1.4.0 in b:\\project\\env\\lib\\site-packages (from jsonschema>=3.0->altair<6,>=4.0->streamlit) (6.4.0)\n",
            "Requirement already satisfied: jsonschema-specifications>=2023.03.6 in b:\\project\\env\\lib\\site-packages (from jsonschema>=3.0->altair<6,>=4.0->streamlit) (2023.12.1)\n",
            "Requirement already satisfied: pkgutil-resolve-name>=1.3.10 in b:\\project\\env\\lib\\site-packages (from jsonschema>=3.0->altair<6,>=4.0->streamlit) (1.3.10)\n",
            "Requirement already satisfied: referencing>=0.28.4 in b:\\project\\env\\lib\\site-packages (from jsonschema>=3.0->altair<6,>=4.0->streamlit) (0.35.1)\n",
            "Requirement already satisfied: rpds-py>=0.7.1 in b:\\project\\env\\lib\\site-packages (from jsonschema>=3.0->altair<6,>=4.0->streamlit) (0.18.0)\n",
            "Requirement already satisfied: mdurl~=0.1 in b:\\project\\env\\lib\\site-packages (from markdown-it-py>=2.2.0->rich<14,>=10.14.0->streamlit) (0.1.2)\n",
            "Requirement already satisfied: streamlit-option-menu in b:\\project\\env\\lib\\site-packages (0.3.12)\n",
            "Requirement already satisfied: streamlit>=0.63 in b:\\project\\env\\lib\\site-packages (from streamlit-option-menu) (1.26.0)\n",
            "Requirement already satisfied: altair<6,>=4.0 in b:\\project\\env\\lib\\site-packages (from streamlit>=0.63->streamlit-option-menu) (5.3.0)\n",
            "Requirement already satisfied: blinker<2,>=1.0.0 in b:\\project\\env\\lib\\site-packages (from streamlit>=0.63->streamlit-option-menu) (1.8.1)\n",
            "Requirement already satisfied: cachetools<6,>=4.0 in b:\\project\\env\\lib\\site-packages (from streamlit>=0.63->streamlit-option-menu) (5.3.3)\n",
            "Requirement already satisfied: click<9,>=7.0 in b:\\project\\env\\lib\\site-packages (from streamlit>=0.63->streamlit-option-menu) (8.1.7)\n",
            "Requirement already satisfied: importlib-metadata<7,>=1.4 in b:\\project\\env\\lib\\site-packages (from streamlit>=0.63->streamlit-option-menu) (6.11.0)\n",
            "Requirement already satisfied: numpy<2,>=1.19.3 in b:\\project\\env\\lib\\site-packages (from streamlit>=0.63->streamlit-option-menu) (1.24.4)\n",
            "Requirement already satisfied: packaging<24,>=16.8 in b:\\project\\env\\lib\\site-packages (from streamlit>=0.63->streamlit-option-menu) (23.2)\n",
            "Requirement already satisfied: pandas<3,>=1.3.0 in b:\\project\\env\\lib\\site-packages (from streamlit>=0.63->streamlit-option-menu) (2.0.3)\n",
            "Requirement already satisfied: pillow<10,>=7.1.0 in b:\\project\\env\\lib\\site-packages (from streamlit>=0.63->streamlit-option-menu) (9.5.0)\n",
            "Requirement already satisfied: protobuf<5,>=3.20 in b:\\project\\env\\lib\\site-packages (from streamlit>=0.63->streamlit-option-menu) (4.25.3)\n",
            "Requirement already satisfied: pyarrow>=6.0 in b:\\project\\env\\lib\\site-packages (from streamlit>=0.63->streamlit-option-menu) (16.0.0)\n",
            "Requirement already satisfied: pympler<2,>=0.9 in b:\\project\\env\\lib\\site-packages (from streamlit>=0.63->streamlit-option-menu) (1.0.1)\n",
            "Requirement already satisfied: python-dateutil<3,>=2.7.3 in b:\\project\\env\\lib\\site-packages (from streamlit>=0.63->streamlit-option-menu) (2.9.0.post0)\n",
            "Requirement already satisfied: requests<3,>=2.18 in b:\\project\\env\\lib\\site-packages (from streamlit>=0.63->streamlit-option-menu) (2.31.0)\n",
            "Requirement already satisfied: rich<14,>=10.14.0 in b:\\project\\env\\lib\\site-packages (from streamlit>=0.63->streamlit-option-menu) (13.7.1)\n",
            "Requirement already satisfied: tenacity<9,>=8.1.0 in b:\\project\\env\\lib\\site-packages (from streamlit>=0.63->streamlit-option-menu) (8.2.3)\n",
            "Requirement already satisfied: toml<2,>=0.10.1 in b:\\project\\env\\lib\\site-packages (from streamlit>=0.63->streamlit-option-menu) (0.10.2)\n",
            "Requirement already satisfied: typing-extensions<5,>=4.1.0 in b:\\project\\env\\lib\\site-packages (from streamlit>=0.63->streamlit-option-menu) (4.11.0)\n",
            "Requirement already satisfied: tzlocal<5,>=1.1 in b:\\project\\env\\lib\\site-packages (from streamlit>=0.63->streamlit-option-menu) (4.3.1)\n",
            "Requirement already satisfied: validators<1,>=0.2 in b:\\project\\env\\lib\\site-packages (from streamlit>=0.63->streamlit-option-menu) (0.28.1)\n",
            "Requirement already satisfied: gitpython!=3.1.19,<4,>=3.0.7 in b:\\project\\env\\lib\\site-packages (from streamlit>=0.63->streamlit-option-menu) (3.1.43)\n",
            "Requirement already satisfied: pydeck<1,>=0.8 in b:\\project\\env\\lib\\site-packages (from streamlit>=0.63->streamlit-option-menu) (0.9.0)\n",
            "Requirement already satisfied: tornado<7,>=6.0.3 in b:\\project\\env\\lib\\site-packages (from streamlit>=0.63->streamlit-option-menu) (6.4)\n",
            "Requirement already satisfied: watchdog>=2.1.5 in b:\\project\\env\\lib\\site-packages (from streamlit>=0.63->streamlit-option-menu) (4.0.0)\n",
            "Requirement already satisfied: jinja2 in b:\\project\\env\\lib\\site-packages (from altair<6,>=4.0->streamlit>=0.63->streamlit-option-menu) (3.1.3)\n",
            "Requirement already satisfied: jsonschema>=3.0 in b:\\project\\env\\lib\\site-packages (from altair<6,>=4.0->streamlit>=0.63->streamlit-option-menu) (4.22.0)\n",
            "Requirement already satisfied: toolz in b:\\project\\env\\lib\\site-packages (from altair<6,>=4.0->streamlit>=0.63->streamlit-option-menu) (0.12.1)\n",
            "Requirement already satisfied: colorama in b:\\project\\env\\lib\\site-packages (from click<9,>=7.0->streamlit>=0.63->streamlit-option-menu) (0.4.6)\n",
            "Requirement already satisfied: gitdb<5,>=4.0.1 in b:\\project\\env\\lib\\site-packages (from gitpython!=3.1.19,<4,>=3.0.7->streamlit>=0.63->streamlit-option-menu) (4.0.11)\n",
            "Requirement already satisfied: zipp>=0.5 in b:\\project\\env\\lib\\site-packages (from importlib-metadata<7,>=1.4->streamlit>=0.63->streamlit-option-menu) (3.18.1)\n",
            "Requirement already satisfied: pytz>=2020.1 in b:\\project\\env\\lib\\site-packages (from pandas<3,>=1.3.0->streamlit>=0.63->streamlit-option-menu) (2024.1)\n",
            "Requirement already satisfied: tzdata>=2022.1 in b:\\project\\env\\lib\\site-packages (from pandas<3,>=1.3.0->streamlit>=0.63->streamlit-option-menu) (2024.1)\n",
            "Requirement already satisfied: six>=1.5 in b:\\project\\env\\lib\\site-packages (from python-dateutil<3,>=2.7.3->streamlit>=0.63->streamlit-option-menu) (1.16.0)\n",
            "Requirement already satisfied: charset-normalizer<4,>=2 in b:\\project\\env\\lib\\site-packages (from requests<3,>=2.18->streamlit>=0.63->streamlit-option-menu) (3.3.2)\n",
            "Requirement already satisfied: idna<4,>=2.5 in b:\\project\\env\\lib\\site-packages (from requests<3,>=2.18->streamlit>=0.63->streamlit-option-menu) (3.7)\n",
            "Requirement already satisfied: urllib3<3,>=1.21.1 in b:\\project\\env\\lib\\site-packages (from requests<3,>=2.18->streamlit>=0.63->streamlit-option-menu) (2.2.1)\n",
            "Requirement already satisfied: certifi>=2017.4.17 in b:\\project\\env\\lib\\site-packages (from requests<3,>=2.18->streamlit>=0.63->streamlit-option-menu) (2024.2.2)\n",
            "Requirement already satisfied: markdown-it-py>=2.2.0 in b:\\project\\env\\lib\\site-packages (from rich<14,>=10.14.0->streamlit>=0.63->streamlit-option-menu) (3.0.0)\n",
            "Requirement already satisfied: pygments<3.0.0,>=2.13.0 in b:\\project\\env\\lib\\site-packages (from rich<14,>=10.14.0->streamlit>=0.63->streamlit-option-menu) (2.18.0)\n",
            "Requirement already satisfied: pytz-deprecation-shim in b:\\project\\env\\lib\\site-packages (from tzlocal<5,>=1.1->streamlit>=0.63->streamlit-option-menu) (0.1.0.post0)\n",
            "Requirement already satisfied: backports.zoneinfo in b:\\project\\env\\lib\\site-packages (from tzlocal<5,>=1.1->streamlit>=0.63->streamlit-option-menu) (0.2.1)\n",
            "Requirement already satisfied: smmap<6,>=3.0.1 in b:\\project\\env\\lib\\site-packages (from gitdb<5,>=4.0.1->gitpython!=3.1.19,<4,>=3.0.7->streamlit>=0.63->streamlit-option-menu) (5.0.1)\n",
            "Requirement already satisfied: MarkupSafe>=2.0 in b:\\project\\env\\lib\\site-packages (from jinja2->altair<6,>=4.0->streamlit>=0.63->streamlit-option-menu) (2.1.5)\n",
            "Requirement already satisfied: attrs>=22.2.0 in b:\\project\\env\\lib\\site-packages (from jsonschema>=3.0->altair<6,>=4.0->streamlit>=0.63->streamlit-option-menu) (23.2.0)\n",
            "Requirement already satisfied: importlib-resources>=1.4.0 in b:\\project\\env\\lib\\site-packages (from jsonschema>=3.0->altair<6,>=4.0->streamlit>=0.63->streamlit-option-menu) (6.4.0)\n",
            "Requirement already satisfied: jsonschema-specifications>=2023.03.6 in b:\\project\\env\\lib\\site-packages (from jsonschema>=3.0->altair<6,>=4.0->streamlit>=0.63->streamlit-option-menu) (2023.12.1)\n",
            "Requirement already satisfied: pkgutil-resolve-name>=1.3.10 in b:\\project\\env\\lib\\site-packages (from jsonschema>=3.0->altair<6,>=4.0->streamlit>=0.63->streamlit-option-menu) (1.3.10)\n",
            "Requirement already satisfied: referencing>=0.28.4 in b:\\project\\env\\lib\\site-packages (from jsonschema>=3.0->altair<6,>=4.0->streamlit>=0.63->streamlit-option-menu) (0.35.1)\n",
            "Requirement already satisfied: rpds-py>=0.7.1 in b:\\project\\env\\lib\\site-packages (from jsonschema>=3.0->altair<6,>=4.0->streamlit>=0.63->streamlit-option-menu) (0.18.0)\n",
            "Requirement already satisfied: mdurl~=0.1 in b:\\project\\env\\lib\\site-packages (from markdown-it-py>=2.2.0->rich<14,>=10.14.0->streamlit>=0.63->streamlit-option-menu) (0.1.2)\n"
          ]
        }
      ],
      "source": [
        "!pip install streamlit\n",
        "!pip install streamlit-option-menu"
      ]
    },
    {
      "cell_type": "code",
      "execution_count": 4,
      "id": "lxfgrquD2E3h",
      "metadata": {
        "colab": {
          "base_uri": "https://localhost:8080/"
        },
        "id": "lxfgrquD2E3h",
        "outputId": "4f6325f1-3cb9-4beb-d0c9-a7a60738c8c6"
      },
      "outputs": [
        {
          "name": "stdout",
          "output_type": "stream",
          "text": [
            "Collecting mysql-connector-python\n",
            "  Downloading mysql_connector_python-8.4.0-cp310-cp310-manylinux_2_17_x86_64.whl (19.4 MB)\n",
            "\u001b[2K     \u001b[90m━━━━━━━━━━━━━━━━━━━━━━━━━━━━━━━━━━━━━━━━\u001b[0m \u001b[32m19.4/19.4 MB\u001b[0m \u001b[31m26.1 MB/s\u001b[0m eta \u001b[36m0:00:00\u001b[0m\n",
            "\u001b[?25hInstalling collected packages: mysql-connector-python\n",
            "Successfully installed mysql-connector-python-8.4.0\n"
          ]
        }
      ],
      "source": [
        "!pip install mysql-connector-python"
      ]
    },
    {
      "cell_type": "code",
      "execution_count": 2,
      "id": "494fcf44-d27f-4730-9ed4-c6cb6ba47eb8",
      "metadata": {
        "id": "494fcf44-d27f-4730-9ed4-c6cb6ba47eb8"
      },
      "outputs": [],
      "source": [
        "import pandas as pd\n",
        "import mysql.connector as sql\n",
        "import streamlit as st\n",
        "import plotly.express as px\n",
        "import os\n",
        "import json\n",
        "from streamlit_option_menu import option_menu\n",
        "from PIL import Image"
      ]
    },
    {
      "cell_type": "code",
      "execution_count": 3,
      "id": "3Oyn7r5l1p9x",
      "metadata": {
        "colab": {
          "base_uri": "https://localhost:8080/"
        },
        "id": "3Oyn7r5l1p9x",
        "outputId": "6ebe58b8-62f7-40db-bb26-f66c1178ce9f"
      },
      "outputs": [
        {
          "name": "stdout",
          "output_type": "stream",
          "text": [
            "Mounted at /content/drive\n"
          ]
        }
      ],
      "source": [
        "from google.colab import drive\n",
        "drive.mount('/content/drive')"
      ]
    },
    {
      "cell_type": "markdown",
      "id": "cd4024de-1484-4644-96fc-a1cf64c18b34",
      "metadata": {
        "id": "cd4024de-1484-4644-96fc-a1cf64c18b34",
        "tags": []
      },
      "source": [
        "# Data Extraction"
      ]
    },
    {
      "cell_type": "markdown",
      "id": "0ee691d3-ea1c-44cb-ac09-e4fce52834e5",
      "metadata": {
        "id": "0ee691d3-ea1c-44cb-ac09-e4fce52834e5",
        "tags": []
      },
      "source": [
        "# Data transformation"
      ]
    },
    {
      "cell_type": "markdown",
      "id": "1e38c410-a76d-4c36-af8f-e4a2b506ea08",
      "metadata": {
        "id": "1e38c410-a76d-4c36-af8f-e4a2b506ea08",
        "jp-MarkdownHeadingCollapsed": true,
        "tags": []
      },
      "source": [
        "## Dataframe of aggregated Transactions"
      ]
    },
    {
      "cell_type": "code",
      "execution_count": 3,
      "id": "6ee04b44-e217-4a7d-87a0-b9c6e260c6ae",
      "metadata": {
        "id": "6ee04b44-e217-4a7d-87a0-b9c6e260c6ae"
      },
      "outputs": [],
      "source": [
        "path1 = \"pulse-master/data/aggregated/transaction/country/india/state/\"\n",
        "agg_trans_list = os.listdir(path1)\n",
        "\n",
        "columns1 = {'State': [], 'Year': [], 'Quarter': [], 'Transaction_type': [], 'Transaction_count': [],\n",
        "            'Transaction_amount': []}\n",
        "for state in agg_trans_list:\n",
        "    cur_state = path1 + state + \"/\"\n",
        "    agg_year_list = os.listdir(cur_state)\n",
        "\n",
        "    for year in agg_year_list:\n",
        "        cur_year = cur_state + year + \"/\"\n",
        "        agg_file_list = os.listdir(cur_year)\n",
        "\n",
        "        for file in agg_file_list:\n",
        "            cur_file = cur_year + file\n",
        "            data = open(cur_file, 'r')\n",
        "            A = json.load(data)\n",
        "\n",
        "            for i in A['data']['transactionData']:\n",
        "                name = i['name']\n",
        "                count = i['paymentInstruments'][0]['count']\n",
        "                amount = i['paymentInstruments'][0]['amount']\n",
        "                columns1['Transaction_type'].append(name)\n",
        "                columns1['Transaction_count'].append(count)\n",
        "                columns1['Transaction_amount'].append(amount)\n",
        "                columns1['State'].append(state)\n",
        "                columns1['Year'].append(year)\n",
        "                columns1['Quarter'].append(int(file.strip('.json')))\n",
        "\n",
        "df_agg_trans = pd.DataFrame(columns1)"
      ]
    },
    {
      "cell_type": "code",
      "execution_count": 4,
      "id": "6911ce30-3f41-4dc0-b2ef-1e8cab0bf459",
      "metadata": {
        "colab": {
          "base_uri": "https://localhost:8080/"
        },
        "id": "6911ce30-3f41-4dc0-b2ef-1e8cab0bf459",
        "outputId": "6b477561-22fd-4520-f3c2-7c1747dc69cb"
      },
      "outputs": [
        {
          "data": {
            "text/plain": [
              "(4494, 6)"
            ]
          },
          "execution_count": 4,
          "metadata": {},
          "output_type": "execute_result"
        }
      ],
      "source": [
        "df_agg_trans.shape"
      ]
    },
    {
      "cell_type": "markdown",
      "id": "3fbf49bb-36b8-4fe4-adbc-fa3d58656020",
      "metadata": {
        "id": "3fbf49bb-36b8-4fe4-adbc-fa3d58656020",
        "jp-MarkdownHeadingCollapsed": true,
        "tags": []
      },
      "source": [
        "## Dataframe of aggregated user"
      ]
    },
    {
      "cell_type": "code",
      "execution_count": 5,
      "id": "7fd40f2d-b882-4473-8cec-a2be159c6baa",
      "metadata": {
        "id": "7fd40f2d-b882-4473-8cec-a2be159c6baa"
      },
      "outputs": [],
      "source": [
        "path2 = \"pulse-master/data/aggregated/user/country/india/state/\"\n",
        "\n",
        "agg_user_list = os.listdir(path2)\n",
        "\n",
        "columns2 = {'State': [], 'Year': [], 'Quarter': [], 'Brands': [], 'Count': [],\n",
        "            'Percentage': []}\n",
        "for state in agg_user_list:\n",
        "    cur_state = path2 + state + \"/\"\n",
        "    agg_year_list = os.listdir(cur_state)\n",
        "\n",
        "    for year in agg_year_list:\n",
        "        cur_year = cur_state + year + \"/\"\n",
        "        agg_file_list = os.listdir(cur_year)\n",
        "\n",
        "        for file in agg_file_list:\n",
        "            cur_file = cur_year + file\n",
        "            data = open(cur_file, 'r')\n",
        "            B = json.load(data)\n",
        "            try:\n",
        "                for i in B[\"data\"][\"usersByDevice\"]:\n",
        "                    brand_name = i[\"brand\"]\n",
        "                    counts = i[\"count\"]\n",
        "                    percents = i[\"percentage\"]\n",
        "                    columns2[\"Brands\"].append(brand_name)\n",
        "                    columns2[\"Count\"].append(counts)\n",
        "                    columns2[\"Percentage\"].append(percents)\n",
        "                    columns2[\"State\"].append(state)\n",
        "                    columns2[\"Year\"].append(year)\n",
        "                    columns2[\"Quarter\"].append(int(file.strip('.json')))\n",
        "            except:\n",
        "                pass\n",
        "df_agg_user = pd.DataFrame(columns2)"
      ]
    },
    {
      "cell_type": "code",
      "execution_count": 6,
      "id": "3d30a5f6-5a1f-4484-8908-b9de329ab2ec",
      "metadata": {
        "id": "3d30a5f6-5a1f-4484-8908-b9de329ab2ec"
      },
      "outputs": [
        {
          "data": {
            "text/html": [
              "<div>\n",
              "<style scoped>\n",
              "    .dataframe tbody tr th:only-of-type {\n",
              "        vertical-align: middle;\n",
              "    }\n",
              "\n",
              "    .dataframe tbody tr th {\n",
              "        vertical-align: top;\n",
              "    }\n",
              "\n",
              "    .dataframe thead th {\n",
              "        text-align: right;\n",
              "    }\n",
              "</style>\n",
              "<table border=\"1\" class=\"dataframe\">\n",
              "  <thead>\n",
              "    <tr style=\"text-align: right;\">\n",
              "      <th></th>\n",
              "      <th>State</th>\n",
              "      <th>Year</th>\n",
              "      <th>Quarter</th>\n",
              "      <th>Brands</th>\n",
              "      <th>Count</th>\n",
              "      <th>Percentage</th>\n",
              "    </tr>\n",
              "  </thead>\n",
              "  <tbody>\n",
              "    <tr>\n",
              "      <th>0</th>\n",
              "      <td>andaman-&amp;-nicobar-islands</td>\n",
              "      <td>2018</td>\n",
              "      <td>1</td>\n",
              "      <td>Xiaomi</td>\n",
              "      <td>1665</td>\n",
              "      <td>0.247033</td>\n",
              "    </tr>\n",
              "    <tr>\n",
              "      <th>1</th>\n",
              "      <td>andaman-&amp;-nicobar-islands</td>\n",
              "      <td>2018</td>\n",
              "      <td>1</td>\n",
              "      <td>Samsung</td>\n",
              "      <td>1445</td>\n",
              "      <td>0.214392</td>\n",
              "    </tr>\n",
              "    <tr>\n",
              "      <th>2</th>\n",
              "      <td>andaman-&amp;-nicobar-islands</td>\n",
              "      <td>2018</td>\n",
              "      <td>1</td>\n",
              "      <td>Vivo</td>\n",
              "      <td>982</td>\n",
              "      <td>0.145697</td>\n",
              "    </tr>\n",
              "    <tr>\n",
              "      <th>3</th>\n",
              "      <td>andaman-&amp;-nicobar-islands</td>\n",
              "      <td>2018</td>\n",
              "      <td>1</td>\n",
              "      <td>Oppo</td>\n",
              "      <td>501</td>\n",
              "      <td>0.074332</td>\n",
              "    </tr>\n",
              "    <tr>\n",
              "      <th>4</th>\n",
              "      <td>andaman-&amp;-nicobar-islands</td>\n",
              "      <td>2018</td>\n",
              "      <td>1</td>\n",
              "      <td>OnePlus</td>\n",
              "      <td>332</td>\n",
              "      <td>0.049258</td>\n",
              "    </tr>\n",
              "    <tr>\n",
              "      <th>...</th>\n",
              "      <td>...</td>\n",
              "      <td>...</td>\n",
              "      <td>...</td>\n",
              "      <td>...</td>\n",
              "      <td>...</td>\n",
              "      <td>...</td>\n",
              "    </tr>\n",
              "    <tr>\n",
              "      <th>6727</th>\n",
              "      <td>west-bengal</td>\n",
              "      <td>2022</td>\n",
              "      <td>1</td>\n",
              "      <td>Lenovo</td>\n",
              "      <td>330017</td>\n",
              "      <td>0.015056</td>\n",
              "    </tr>\n",
              "    <tr>\n",
              "      <th>6728</th>\n",
              "      <td>west-bengal</td>\n",
              "      <td>2022</td>\n",
              "      <td>1</td>\n",
              "      <td>Infinix</td>\n",
              "      <td>284678</td>\n",
              "      <td>0.012987</td>\n",
              "    </tr>\n",
              "    <tr>\n",
              "      <th>6729</th>\n",
              "      <td>west-bengal</td>\n",
              "      <td>2022</td>\n",
              "      <td>1</td>\n",
              "      <td>Asus</td>\n",
              "      <td>280347</td>\n",
              "      <td>0.012790</td>\n",
              "    </tr>\n",
              "    <tr>\n",
              "      <th>6730</th>\n",
              "      <td>west-bengal</td>\n",
              "      <td>2022</td>\n",
              "      <td>1</td>\n",
              "      <td>Apple</td>\n",
              "      <td>277752</td>\n",
              "      <td>0.012671</td>\n",
              "    </tr>\n",
              "    <tr>\n",
              "      <th>6731</th>\n",
              "      <td>west-bengal</td>\n",
              "      <td>2022</td>\n",
              "      <td>1</td>\n",
              "      <td>Others</td>\n",
              "      <td>2196334</td>\n",
              "      <td>0.100199</td>\n",
              "    </tr>\n",
              "  </tbody>\n",
              "</table>\n",
              "<p>6732 rows × 6 columns</p>\n",
              "</div>"
            ],
            "text/plain": [
              "                          State  Year  Quarter   Brands    Count  Percentage\n",
              "0     andaman-&-nicobar-islands  2018        1   Xiaomi     1665    0.247033\n",
              "1     andaman-&-nicobar-islands  2018        1  Samsung     1445    0.214392\n",
              "2     andaman-&-nicobar-islands  2018        1     Vivo      982    0.145697\n",
              "3     andaman-&-nicobar-islands  2018        1     Oppo      501    0.074332\n",
              "4     andaman-&-nicobar-islands  2018        1  OnePlus      332    0.049258\n",
              "...                         ...   ...      ...      ...      ...         ...\n",
              "6727                west-bengal  2022        1   Lenovo   330017    0.015056\n",
              "6728                west-bengal  2022        1  Infinix   284678    0.012987\n",
              "6729                west-bengal  2022        1     Asus   280347    0.012790\n",
              "6730                west-bengal  2022        1    Apple   277752    0.012671\n",
              "6731                west-bengal  2022        1   Others  2196334    0.100199\n",
              "\n",
              "[6732 rows x 6 columns]"
            ]
          },
          "execution_count": 6,
          "metadata": {},
          "output_type": "execute_result"
        }
      ],
      "source": [
        "df_agg_user"
      ]
    },
    {
      "cell_type": "markdown",
      "id": "d8afac9e-7bde-42da-84d5-41b18aa06b5a",
      "metadata": {
        "id": "d8afac9e-7bde-42da-84d5-41b18aa06b5a",
        "jp-MarkdownHeadingCollapsed": true,
        "tags": []
      },
      "source": [
        "## Dataframe of map transactions"
      ]
    },
    {
      "cell_type": "code",
      "execution_count": 7,
      "id": "6d30a7a8-3a93-4980-a008-5bae3f5d3fb2",
      "metadata": {
        "id": "6d30a7a8-3a93-4980-a008-5bae3f5d3fb2"
      },
      "outputs": [],
      "source": [
        "path3 = \"pulse-master/data/map/transaction/hover/country/india/state/\"\n",
        "\n",
        "map_trans_list = os.listdir(path3)\n",
        "\n",
        "columns3 = {'State': [], 'Year': [], 'Quarter': [], 'District': [], 'Count': [],\n",
        "            'Amount': []}\n",
        "\n",
        "for state in map_trans_list:\n",
        "    cur_state = path3 + state + \"/\"\n",
        "    map_year_list = os.listdir(cur_state)\n",
        "\n",
        "    for year in map_year_list:\n",
        "        cur_year = cur_state + year + \"/\"\n",
        "        map_file_list = os.listdir(cur_year)\n",
        "\n",
        "        for file in map_file_list:\n",
        "            cur_file = cur_year + file\n",
        "            data = open(cur_file, 'r')\n",
        "            C = json.load(data)\n",
        "\n",
        "            for i in C[\"data\"][\"hoverDataList\"]:\n",
        "                district = i[\"name\"]\n",
        "                count = i[\"metric\"][0][\"count\"]\n",
        "                amount = i[\"metric\"][0][\"amount\"]\n",
        "                columns3[\"District\"].append(district)\n",
        "                columns3[\"Count\"].append(count)\n",
        "                columns3[\"Amount\"].append(amount)\n",
        "                columns3['State'].append(state)\n",
        "                columns3['Year'].append(year)\n",
        "                columns3['Quarter'].append(int(file.strip('.json')))\n",
        "\n",
        "df_map_trans = pd.DataFrame(columns3)"
      ]
    },
    {
      "cell_type": "code",
      "execution_count": 8,
      "id": "ffd7147d-1d9e-4ddb-843c-b9f6b0c2ab5e",
      "metadata": {
        "id": "ffd7147d-1d9e-4ddb-843c-b9f6b0c2ab5e"
      },
      "outputs": [
        {
          "data": {
            "text/html": [
              "<div>\n",
              "<style scoped>\n",
              "    .dataframe tbody tr th:only-of-type {\n",
              "        vertical-align: middle;\n",
              "    }\n",
              "\n",
              "    .dataframe tbody tr th {\n",
              "        vertical-align: top;\n",
              "    }\n",
              "\n",
              "    .dataframe thead th {\n",
              "        text-align: right;\n",
              "    }\n",
              "</style>\n",
              "<table border=\"1\" class=\"dataframe\">\n",
              "  <thead>\n",
              "    <tr style=\"text-align: right;\">\n",
              "      <th></th>\n",
              "      <th>State</th>\n",
              "      <th>Year</th>\n",
              "      <th>Quarter</th>\n",
              "      <th>District</th>\n",
              "      <th>Count</th>\n",
              "      <th>Amount</th>\n",
              "    </tr>\n",
              "  </thead>\n",
              "  <tbody>\n",
              "    <tr>\n",
              "      <th>0</th>\n",
              "      <td>andaman-&amp;-nicobar-islands</td>\n",
              "      <td>2018</td>\n",
              "      <td>1</td>\n",
              "      <td>north and middle andaman district</td>\n",
              "      <td>442</td>\n",
              "      <td>9.316631e+05</td>\n",
              "    </tr>\n",
              "    <tr>\n",
              "      <th>1</th>\n",
              "      <td>andaman-&amp;-nicobar-islands</td>\n",
              "      <td>2018</td>\n",
              "      <td>1</td>\n",
              "      <td>south andaman district</td>\n",
              "      <td>5688</td>\n",
              "      <td>1.256025e+07</td>\n",
              "    </tr>\n",
              "    <tr>\n",
              "      <th>2</th>\n",
              "      <td>andaman-&amp;-nicobar-islands</td>\n",
              "      <td>2018</td>\n",
              "      <td>1</td>\n",
              "      <td>nicobars district</td>\n",
              "      <td>528</td>\n",
              "      <td>1.139849e+06</td>\n",
              "    </tr>\n",
              "    <tr>\n",
              "      <th>3</th>\n",
              "      <td>andaman-&amp;-nicobar-islands</td>\n",
              "      <td>2018</td>\n",
              "      <td>2</td>\n",
              "      <td>north and middle andaman district</td>\n",
              "      <td>825</td>\n",
              "      <td>1.317863e+06</td>\n",
              "    </tr>\n",
              "    <tr>\n",
              "      <th>4</th>\n",
              "      <td>andaman-&amp;-nicobar-islands</td>\n",
              "      <td>2018</td>\n",
              "      <td>2</td>\n",
              "      <td>south andaman district</td>\n",
              "      <td>9395</td>\n",
              "      <td>2.394824e+07</td>\n",
              "    </tr>\n",
              "    <tr>\n",
              "      <th>...</th>\n",
              "      <td>...</td>\n",
              "      <td>...</td>\n",
              "      <td>...</td>\n",
              "      <td>...</td>\n",
              "      <td>...</td>\n",
              "      <td>...</td>\n",
              "    </tr>\n",
              "    <tr>\n",
              "      <th>18291</th>\n",
              "      <td>west-bengal</td>\n",
              "      <td>2024</td>\n",
              "      <td>1</td>\n",
              "      <td>nadia district</td>\n",
              "      <td>42154481</td>\n",
              "      <td>7.903014e+10</td>\n",
              "    </tr>\n",
              "    <tr>\n",
              "      <th>18292</th>\n",
              "      <td>west-bengal</td>\n",
              "      <td>2024</td>\n",
              "      <td>1</td>\n",
              "      <td>birbhum district</td>\n",
              "      <td>24812300</td>\n",
              "      <td>4.640025e+10</td>\n",
              "    </tr>\n",
              "    <tr>\n",
              "      <th>18293</th>\n",
              "      <td>west-bengal</td>\n",
              "      <td>2024</td>\n",
              "      <td>1</td>\n",
              "      <td>purba medinipur district</td>\n",
              "      <td>46212626</td>\n",
              "      <td>9.237355e+10</td>\n",
              "    </tr>\n",
              "    <tr>\n",
              "      <th>18294</th>\n",
              "      <td>west-bengal</td>\n",
              "      <td>2024</td>\n",
              "      <td>1</td>\n",
              "      <td>maldah district</td>\n",
              "      <td>42299563</td>\n",
              "      <td>7.671603e+10</td>\n",
              "    </tr>\n",
              "    <tr>\n",
              "      <th>18295</th>\n",
              "      <td>west-bengal</td>\n",
              "      <td>2024</td>\n",
              "      <td>1</td>\n",
              "      <td>darjiling district</td>\n",
              "      <td>18129044</td>\n",
              "      <td>2.927784e+10</td>\n",
              "    </tr>\n",
              "  </tbody>\n",
              "</table>\n",
              "<p>18296 rows × 6 columns</p>\n",
              "</div>"
            ],
            "text/plain": [
              "                           State  Year  Quarter  \\\n",
              "0      andaman-&-nicobar-islands  2018        1   \n",
              "1      andaman-&-nicobar-islands  2018        1   \n",
              "2      andaman-&-nicobar-islands  2018        1   \n",
              "3      andaman-&-nicobar-islands  2018        2   \n",
              "4      andaman-&-nicobar-islands  2018        2   \n",
              "...                          ...   ...      ...   \n",
              "18291                west-bengal  2024        1   \n",
              "18292                west-bengal  2024        1   \n",
              "18293                west-bengal  2024        1   \n",
              "18294                west-bengal  2024        1   \n",
              "18295                west-bengal  2024        1   \n",
              "\n",
              "                                District     Count        Amount  \n",
              "0      north and middle andaman district       442  9.316631e+05  \n",
              "1                 south andaman district      5688  1.256025e+07  \n",
              "2                      nicobars district       528  1.139849e+06  \n",
              "3      north and middle andaman district       825  1.317863e+06  \n",
              "4                 south andaman district      9395  2.394824e+07  \n",
              "...                                  ...       ...           ...  \n",
              "18291                     nadia district  42154481  7.903014e+10  \n",
              "18292                   birbhum district  24812300  4.640025e+10  \n",
              "18293           purba medinipur district  46212626  9.237355e+10  \n",
              "18294                    maldah district  42299563  7.671603e+10  \n",
              "18295                 darjiling district  18129044  2.927784e+10  \n",
              "\n",
              "[18296 rows x 6 columns]"
            ]
          },
          "execution_count": 8,
          "metadata": {},
          "output_type": "execute_result"
        }
      ],
      "source": [
        "df_map_trans"
      ]
    },
    {
      "cell_type": "markdown",
      "id": "7bc01c56-3e33-4623-9cb3-58c47f1aaa39",
      "metadata": {
        "id": "7bc01c56-3e33-4623-9cb3-58c47f1aaa39",
        "jp-MarkdownHeadingCollapsed": true,
        "tags": []
      },
      "source": [
        "## Dataframe of map user"
      ]
    },
    {
      "cell_type": "code",
      "execution_count": 9,
      "id": "21de8c92-7c89-4ac6-adf0-2fd200bcd55a",
      "metadata": {
        "id": "21de8c92-7c89-4ac6-adf0-2fd200bcd55a"
      },
      "outputs": [],
      "source": [
        "path4 = \"pulse-master/data/map/user/hover/country/india/state/\"\n",
        "\n",
        "map_user_list = os.listdir(path4)\n",
        "\n",
        "columns4 = {\"State\": [], \"Year\": [], \"Quarter\": [], \"District\": [],\n",
        "            \"RegisteredUser\": [], \"AppOpens\": []}\n",
        "\n",
        "for state in map_user_list:\n",
        "    cur_state = path4 + state + \"/\"\n",
        "    map_year_list = os.listdir(cur_state)\n",
        "\n",
        "    for year in map_year_list:\n",
        "        cur_year = cur_state + year + \"/\"\n",
        "        map_file_list = os.listdir(cur_year)\n",
        "\n",
        "        for file in map_file_list:\n",
        "            cur_file = cur_year + file\n",
        "            data = open(cur_file, 'r')\n",
        "            D = json.load(data)\n",
        "\n",
        "            for i in D[\"data\"][\"hoverData\"].items():\n",
        "                district = i[0]\n",
        "                registereduser = i[1][\"registeredUsers\"]\n",
        "                appOpens = i[1]['appOpens']\n",
        "                columns4[\"District\"].append(district)\n",
        "                columns4[\"RegisteredUser\"].append(registereduser)\n",
        "                columns4[\"AppOpens\"].append(appOpens)\n",
        "                columns4['State'].append(state)\n",
        "                columns4['Year'].append(year)\n",
        "                columns4['Quarter'].append(int(file.strip('.json')))\n",
        "\n",
        "df_map_user = pd.DataFrame(columns4)"
      ]
    },
    {
      "cell_type": "code",
      "execution_count": 10,
      "id": "20dbad3a-7a2f-4fd2-845e-46d8c98e7fbd",
      "metadata": {
        "id": "20dbad3a-7a2f-4fd2-845e-46d8c98e7fbd"
      },
      "outputs": [
        {
          "data": {
            "text/html": [
              "<div>\n",
              "<style scoped>\n",
              "    .dataframe tbody tr th:only-of-type {\n",
              "        vertical-align: middle;\n",
              "    }\n",
              "\n",
              "    .dataframe tbody tr th {\n",
              "        vertical-align: top;\n",
              "    }\n",
              "\n",
              "    .dataframe thead th {\n",
              "        text-align: right;\n",
              "    }\n",
              "</style>\n",
              "<table border=\"1\" class=\"dataframe\">\n",
              "  <thead>\n",
              "    <tr style=\"text-align: right;\">\n",
              "      <th></th>\n",
              "      <th>State</th>\n",
              "      <th>Year</th>\n",
              "      <th>Quarter</th>\n",
              "      <th>District</th>\n",
              "      <th>RegisteredUser</th>\n",
              "      <th>AppOpens</th>\n",
              "    </tr>\n",
              "  </thead>\n",
              "  <tbody>\n",
              "    <tr>\n",
              "      <th>0</th>\n",
              "      <td>andaman-&amp;-nicobar-islands</td>\n",
              "      <td>2018</td>\n",
              "      <td>1</td>\n",
              "      <td>north and middle andaman district</td>\n",
              "      <td>632</td>\n",
              "      <td>0</td>\n",
              "    </tr>\n",
              "    <tr>\n",
              "      <th>1</th>\n",
              "      <td>andaman-&amp;-nicobar-islands</td>\n",
              "      <td>2018</td>\n",
              "      <td>1</td>\n",
              "      <td>south andaman district</td>\n",
              "      <td>5846</td>\n",
              "      <td>0</td>\n",
              "    </tr>\n",
              "    <tr>\n",
              "      <th>2</th>\n",
              "      <td>andaman-&amp;-nicobar-islands</td>\n",
              "      <td>2018</td>\n",
              "      <td>1</td>\n",
              "      <td>nicobars district</td>\n",
              "      <td>262</td>\n",
              "      <td>0</td>\n",
              "    </tr>\n",
              "    <tr>\n",
              "      <th>3</th>\n",
              "      <td>andaman-&amp;-nicobar-islands</td>\n",
              "      <td>2018</td>\n",
              "      <td>2</td>\n",
              "      <td>north and middle andaman district</td>\n",
              "      <td>911</td>\n",
              "      <td>0</td>\n",
              "    </tr>\n",
              "    <tr>\n",
              "      <th>4</th>\n",
              "      <td>andaman-&amp;-nicobar-islands</td>\n",
              "      <td>2018</td>\n",
              "      <td>2</td>\n",
              "      <td>south andaman district</td>\n",
              "      <td>8143</td>\n",
              "      <td>0</td>\n",
              "    </tr>\n",
              "    <tr>\n",
              "      <th>...</th>\n",
              "      <td>...</td>\n",
              "      <td>...</td>\n",
              "      <td>...</td>\n",
              "      <td>...</td>\n",
              "      <td>...</td>\n",
              "      <td>...</td>\n",
              "    </tr>\n",
              "    <tr>\n",
              "      <th>18295</th>\n",
              "      <td>west-bengal</td>\n",
              "      <td>2024</td>\n",
              "      <td>1</td>\n",
              "      <td>nadia district</td>\n",
              "      <td>1671140</td>\n",
              "      <td>13679202</td>\n",
              "    </tr>\n",
              "    <tr>\n",
              "      <th>18296</th>\n",
              "      <td>west-bengal</td>\n",
              "      <td>2024</td>\n",
              "      <td>1</td>\n",
              "      <td>birbhum district</td>\n",
              "      <td>1056537</td>\n",
              "      <td>30502875</td>\n",
              "    </tr>\n",
              "    <tr>\n",
              "      <th>18297</th>\n",
              "      <td>west-bengal</td>\n",
              "      <td>2024</td>\n",
              "      <td>1</td>\n",
              "      <td>purba medinipur district</td>\n",
              "      <td>1655920</td>\n",
              "      <td>18688405</td>\n",
              "    </tr>\n",
              "    <tr>\n",
              "      <th>18298</th>\n",
              "      <td>west-bengal</td>\n",
              "      <td>2024</td>\n",
              "      <td>1</td>\n",
              "      <td>maldah district</td>\n",
              "      <td>1183956</td>\n",
              "      <td>33270738</td>\n",
              "    </tr>\n",
              "    <tr>\n",
              "      <th>18299</th>\n",
              "      <td>west-bengal</td>\n",
              "      <td>2024</td>\n",
              "      <td>1</td>\n",
              "      <td>darjiling district</td>\n",
              "      <td>686254</td>\n",
              "      <td>31485682</td>\n",
              "    </tr>\n",
              "  </tbody>\n",
              "</table>\n",
              "<p>18300 rows × 6 columns</p>\n",
              "</div>"
            ],
            "text/plain": [
              "                           State  Year  Quarter  \\\n",
              "0      andaman-&-nicobar-islands  2018        1   \n",
              "1      andaman-&-nicobar-islands  2018        1   \n",
              "2      andaman-&-nicobar-islands  2018        1   \n",
              "3      andaman-&-nicobar-islands  2018        2   \n",
              "4      andaman-&-nicobar-islands  2018        2   \n",
              "...                          ...   ...      ...   \n",
              "18295                west-bengal  2024        1   \n",
              "18296                west-bengal  2024        1   \n",
              "18297                west-bengal  2024        1   \n",
              "18298                west-bengal  2024        1   \n",
              "18299                west-bengal  2024        1   \n",
              "\n",
              "                                District  RegisteredUser  AppOpens  \n",
              "0      north and middle andaman district             632         0  \n",
              "1                 south andaman district            5846         0  \n",
              "2                      nicobars district             262         0  \n",
              "3      north and middle andaman district             911         0  \n",
              "4                 south andaman district            8143         0  \n",
              "...                                  ...             ...       ...  \n",
              "18295                     nadia district         1671140  13679202  \n",
              "18296                   birbhum district         1056537  30502875  \n",
              "18297           purba medinipur district         1655920  18688405  \n",
              "18298                    maldah district         1183956  33270738  \n",
              "18299                 darjiling district          686254  31485682  \n",
              "\n",
              "[18300 rows x 6 columns]"
            ]
          },
          "execution_count": 10,
          "metadata": {},
          "output_type": "execute_result"
        }
      ],
      "source": [
        "df_map_user"
      ]
    },
    {
      "cell_type": "markdown",
      "id": "4ac4453d-bd64-42f6-be93-f5822d6afd77",
      "metadata": {
        "id": "4ac4453d-bd64-42f6-be93-f5822d6afd77",
        "jp-MarkdownHeadingCollapsed": true,
        "tags": []
      },
      "source": [
        "## Dataframe of top transactions"
      ]
    },
    {
      "cell_type": "code",
      "execution_count": 11,
      "id": "a9ab0314-abf6-44e2-a714-53bf12888964",
      "metadata": {
        "id": "a9ab0314-abf6-44e2-a714-53bf12888964"
      },
      "outputs": [],
      "source": [
        "path5 = \"pulse-master/data/top/transaction/country/india/state/\"\n",
        "\n",
        "top_trans_list = os.listdir(path5)\n",
        "columns5 = {'State': [], 'Year': [], 'Quarter': [], 'Pincode': [], 'Transaction_count': [],\n",
        "            'Transaction_amount': []}\n",
        "\n",
        "for state in top_trans_list:\n",
        "    cur_state = path5 + state + \"/\"\n",
        "    top_year_list = os.listdir(cur_state)\n",
        "\n",
        "    for year in top_year_list:\n",
        "        cur_year = cur_state + year + \"/\"\n",
        "        top_file_list = os.listdir(cur_year)\n",
        "\n",
        "        for file in top_file_list:\n",
        "            cur_file = cur_year + file\n",
        "            data = open(cur_file, 'r')\n",
        "            E = json.load(data)\n",
        "\n",
        "            for i in E['data']['pincodes']:\n",
        "                name = i['entityName']\n",
        "                count = i['metric']['count']\n",
        "                amount = i['metric']['amount']\n",
        "                columns5['Pincode'].append(name)\n",
        "                columns5['Transaction_count'].append(count)\n",
        "                columns5['Transaction_amount'].append(amount)\n",
        "                columns5['State'].append(state)\n",
        "                columns5['Year'].append(year)\n",
        "                columns5['Quarter'].append(int(file.strip('.json')))\n",
        "df_top_trans = pd.DataFrame(columns5)\n"
      ]
    },
    {
      "cell_type": "code",
      "execution_count": 12,
      "id": "43214cb6-3d8d-4c45-9bff-94d003511d4b",
      "metadata": {
        "id": "43214cb6-3d8d-4c45-9bff-94d003511d4b"
      },
      "outputs": [
        {
          "data": {
            "text/html": [
              "<div>\n",
              "<style scoped>\n",
              "    .dataframe tbody tr th:only-of-type {\n",
              "        vertical-align: middle;\n",
              "    }\n",
              "\n",
              "    .dataframe tbody tr th {\n",
              "        vertical-align: top;\n",
              "    }\n",
              "\n",
              "    .dataframe thead th {\n",
              "        text-align: right;\n",
              "    }\n",
              "</style>\n",
              "<table border=\"1\" class=\"dataframe\">\n",
              "  <thead>\n",
              "    <tr style=\"text-align: right;\">\n",
              "      <th></th>\n",
              "      <th>State</th>\n",
              "      <th>Year</th>\n",
              "      <th>Quarter</th>\n",
              "      <th>Pincode</th>\n",
              "      <th>Transaction_count</th>\n",
              "      <th>Transaction_amount</th>\n",
              "    </tr>\n",
              "  </thead>\n",
              "  <tbody>\n",
              "    <tr>\n",
              "      <th>0</th>\n",
              "      <td>andaman-&amp;-nicobar-islands</td>\n",
              "      <td>2018</td>\n",
              "      <td>1</td>\n",
              "      <td>744101</td>\n",
              "      <td>1622</td>\n",
              "      <td>2.769298e+06</td>\n",
              "    </tr>\n",
              "    <tr>\n",
              "      <th>1</th>\n",
              "      <td>andaman-&amp;-nicobar-islands</td>\n",
              "      <td>2018</td>\n",
              "      <td>1</td>\n",
              "      <td>744103</td>\n",
              "      <td>1223</td>\n",
              "      <td>2.238042e+06</td>\n",
              "    </tr>\n",
              "    <tr>\n",
              "      <th>2</th>\n",
              "      <td>andaman-&amp;-nicobar-islands</td>\n",
              "      <td>2018</td>\n",
              "      <td>1</td>\n",
              "      <td>744102</td>\n",
              "      <td>969</td>\n",
              "      <td>3.519060e+06</td>\n",
              "    </tr>\n",
              "    <tr>\n",
              "      <th>3</th>\n",
              "      <td>andaman-&amp;-nicobar-islands</td>\n",
              "      <td>2018</td>\n",
              "      <td>1</td>\n",
              "      <td>744105</td>\n",
              "      <td>685</td>\n",
              "      <td>1.298561e+06</td>\n",
              "    </tr>\n",
              "    <tr>\n",
              "      <th>4</th>\n",
              "      <td>andaman-&amp;-nicobar-islands</td>\n",
              "      <td>2018</td>\n",
              "      <td>1</td>\n",
              "      <td>744104</td>\n",
              "      <td>340</td>\n",
              "      <td>1.039715e+06</td>\n",
              "    </tr>\n",
              "    <tr>\n",
              "      <th>...</th>\n",
              "      <td>...</td>\n",
              "      <td>...</td>\n",
              "      <td>...</td>\n",
              "      <td>...</td>\n",
              "      <td>...</td>\n",
              "      <td>...</td>\n",
              "    </tr>\n",
              "    <tr>\n",
              "      <th>8919</th>\n",
              "      <td>west-bengal</td>\n",
              "      <td>2024</td>\n",
              "      <td>1</td>\n",
              "      <td>732125</td>\n",
              "      <td>4490229</td>\n",
              "      <td>7.014125e+09</td>\n",
              "    </tr>\n",
              "    <tr>\n",
              "      <th>8920</th>\n",
              "      <td>west-bengal</td>\n",
              "      <td>2024</td>\n",
              "      <td>1</td>\n",
              "      <td>700006</td>\n",
              "      <td>4358390</td>\n",
              "      <td>8.114395e+09</td>\n",
              "    </tr>\n",
              "    <tr>\n",
              "      <th>8921</th>\n",
              "      <td>west-bengal</td>\n",
              "      <td>2024</td>\n",
              "      <td>1</td>\n",
              "      <td>700001</td>\n",
              "      <td>4321119</td>\n",
              "      <td>8.497021e+09</td>\n",
              "    </tr>\n",
              "    <tr>\n",
              "      <th>8922</th>\n",
              "      <td>west-bengal</td>\n",
              "      <td>2024</td>\n",
              "      <td>1</td>\n",
              "      <td>732201</td>\n",
              "      <td>4265219</td>\n",
              "      <td>9.908795e+09</td>\n",
              "    </tr>\n",
              "    <tr>\n",
              "      <th>8923</th>\n",
              "      <td>west-bengal</td>\n",
              "      <td>2024</td>\n",
              "      <td>1</td>\n",
              "      <td>742202</td>\n",
              "      <td>3985791</td>\n",
              "      <td>8.428173e+09</td>\n",
              "    </tr>\n",
              "  </tbody>\n",
              "</table>\n",
              "<p>8924 rows × 6 columns</p>\n",
              "</div>"
            ],
            "text/plain": [
              "                          State  Year  Quarter Pincode  Transaction_count  \\\n",
              "0     andaman-&-nicobar-islands  2018        1  744101               1622   \n",
              "1     andaman-&-nicobar-islands  2018        1  744103               1223   \n",
              "2     andaman-&-nicobar-islands  2018        1  744102                969   \n",
              "3     andaman-&-nicobar-islands  2018        1  744105                685   \n",
              "4     andaman-&-nicobar-islands  2018        1  744104                340   \n",
              "...                         ...   ...      ...     ...                ...   \n",
              "8919                west-bengal  2024        1  732125            4490229   \n",
              "8920                west-bengal  2024        1  700006            4358390   \n",
              "8921                west-bengal  2024        1  700001            4321119   \n",
              "8922                west-bengal  2024        1  732201            4265219   \n",
              "8923                west-bengal  2024        1  742202            3985791   \n",
              "\n",
              "      Transaction_amount  \n",
              "0           2.769298e+06  \n",
              "1           2.238042e+06  \n",
              "2           3.519060e+06  \n",
              "3           1.298561e+06  \n",
              "4           1.039715e+06  \n",
              "...                  ...  \n",
              "8919        7.014125e+09  \n",
              "8920        8.114395e+09  \n",
              "8921        8.497021e+09  \n",
              "8922        9.908795e+09  \n",
              "8923        8.428173e+09  \n",
              "\n",
              "[8924 rows x 6 columns]"
            ]
          },
          "execution_count": 12,
          "metadata": {},
          "output_type": "execute_result"
        }
      ],
      "source": [
        "df_top_trans"
      ]
    },
    {
      "cell_type": "markdown",
      "id": "c6826c6d-cc47-4188-b48f-641142970769",
      "metadata": {
        "id": "c6826c6d-cc47-4188-b48f-641142970769",
        "jp-MarkdownHeadingCollapsed": true,
        "tags": []
      },
      "source": [
        "## Dataframe of top users"
      ]
    },
    {
      "cell_type": "code",
      "execution_count": 13,
      "id": "f7d32db2-5028-4da2-9d84-c7cab299c032",
      "metadata": {
        "id": "f7d32db2-5028-4da2-9d84-c7cab299c032"
      },
      "outputs": [],
      "source": [
        "path6 = \"pulse-master/data/top/user/country/india/state/\"\n",
        "top_user_list = os.listdir(path6)\n",
        "columns6 = {'State': [], 'Year': [], 'Quarter': [], 'Pincode': [],\n",
        "            'RegisteredUsers': []}\n",
        "\n",
        "for state in top_user_list:\n",
        "    cur_state = path6 + state + \"/\"\n",
        "    top_year_list = os.listdir(cur_state)\n",
        "\n",
        "    for year in top_year_list:\n",
        "        cur_year = cur_state + year + \"/\"\n",
        "        top_file_list = os.listdir(cur_year)\n",
        "\n",
        "        for file in top_file_list:\n",
        "            cur_file = cur_year + file\n",
        "            data = open(cur_file, 'r')\n",
        "            F = json.load(data)\n",
        "\n",
        "            for i in F['data']['pincodes']:\n",
        "                name = i['name']\n",
        "                registeredUsers = i['registeredUsers']\n",
        "                columns6['Pincode'].append(name)\n",
        "                columns6['RegisteredUsers'].append(registeredUsers)\n",
        "                columns6['State'].append(state)\n",
        "                columns6['Year'].append(year)\n",
        "                columns6['Quarter'].append(int(file.strip('.json')))\n",
        "df_top_user = pd.DataFrame(columns6)"
      ]
    },
    {
      "cell_type": "code",
      "execution_count": 14,
      "id": "1de5867e-5d0c-4692-831f-64860858bca3",
      "metadata": {
        "id": "1de5867e-5d0c-4692-831f-64860858bca3"
      },
      "outputs": [
        {
          "data": {
            "text/html": [
              "<div>\n",
              "<style scoped>\n",
              "    .dataframe tbody tr th:only-of-type {\n",
              "        vertical-align: middle;\n",
              "    }\n",
              "\n",
              "    .dataframe tbody tr th {\n",
              "        vertical-align: top;\n",
              "    }\n",
              "\n",
              "    .dataframe thead th {\n",
              "        text-align: right;\n",
              "    }\n",
              "</style>\n",
              "<table border=\"1\" class=\"dataframe\">\n",
              "  <thead>\n",
              "    <tr style=\"text-align: right;\">\n",
              "      <th></th>\n",
              "      <th>State</th>\n",
              "      <th>Year</th>\n",
              "      <th>Quarter</th>\n",
              "      <th>Pincode</th>\n",
              "      <th>RegisteredUsers</th>\n",
              "    </tr>\n",
              "  </thead>\n",
              "  <tbody>\n",
              "    <tr>\n",
              "      <th>0</th>\n",
              "      <td>andaman-&amp;-nicobar-islands</td>\n",
              "      <td>2018</td>\n",
              "      <td>1</td>\n",
              "      <td>744103</td>\n",
              "      <td>1608</td>\n",
              "    </tr>\n",
              "    <tr>\n",
              "      <th>1</th>\n",
              "      <td>andaman-&amp;-nicobar-islands</td>\n",
              "      <td>2018</td>\n",
              "      <td>1</td>\n",
              "      <td>744101</td>\n",
              "      <td>1108</td>\n",
              "    </tr>\n",
              "    <tr>\n",
              "      <th>2</th>\n",
              "      <td>andaman-&amp;-nicobar-islands</td>\n",
              "      <td>2018</td>\n",
              "      <td>1</td>\n",
              "      <td>744105</td>\n",
              "      <td>1075</td>\n",
              "    </tr>\n",
              "    <tr>\n",
              "      <th>3</th>\n",
              "      <td>andaman-&amp;-nicobar-islands</td>\n",
              "      <td>2018</td>\n",
              "      <td>1</td>\n",
              "      <td>744102</td>\n",
              "      <td>1006</td>\n",
              "    </tr>\n",
              "    <tr>\n",
              "      <th>4</th>\n",
              "      <td>andaman-&amp;-nicobar-islands</td>\n",
              "      <td>2018</td>\n",
              "      <td>1</td>\n",
              "      <td>744104</td>\n",
              "      <td>272</td>\n",
              "    </tr>\n",
              "    <tr>\n",
              "      <th>...</th>\n",
              "      <td>...</td>\n",
              "      <td>...</td>\n",
              "      <td>...</td>\n",
              "      <td>...</td>\n",
              "      <td>...</td>\n",
              "    </tr>\n",
              "    <tr>\n",
              "      <th>8920</th>\n",
              "      <td>west-bengal</td>\n",
              "      <td>2024</td>\n",
              "      <td>1</td>\n",
              "      <td>700015</td>\n",
              "      <td>131676</td>\n",
              "    </tr>\n",
              "    <tr>\n",
              "      <th>8921</th>\n",
              "      <td>west-bengal</td>\n",
              "      <td>2024</td>\n",
              "      <td>1</td>\n",
              "      <td>742304</td>\n",
              "      <td>127917</td>\n",
              "    </tr>\n",
              "    <tr>\n",
              "      <th>8922</th>\n",
              "      <td>west-bengal</td>\n",
              "      <td>2024</td>\n",
              "      <td>1</td>\n",
              "      <td>721101</td>\n",
              "      <td>127891</td>\n",
              "    </tr>\n",
              "    <tr>\n",
              "      <th>8923</th>\n",
              "      <td>west-bengal</td>\n",
              "      <td>2024</td>\n",
              "      <td>1</td>\n",
              "      <td>700150</td>\n",
              "      <td>123919</td>\n",
              "    </tr>\n",
              "    <tr>\n",
              "      <th>8924</th>\n",
              "      <td>west-bengal</td>\n",
              "      <td>2024</td>\n",
              "      <td>1</td>\n",
              "      <td>700091</td>\n",
              "      <td>122985</td>\n",
              "    </tr>\n",
              "  </tbody>\n",
              "</table>\n",
              "<p>8925 rows × 5 columns</p>\n",
              "</div>"
            ],
            "text/plain": [
              "                          State  Year  Quarter Pincode  RegisteredUsers\n",
              "0     andaman-&-nicobar-islands  2018        1  744103             1608\n",
              "1     andaman-&-nicobar-islands  2018        1  744101             1108\n",
              "2     andaman-&-nicobar-islands  2018        1  744105             1075\n",
              "3     andaman-&-nicobar-islands  2018        1  744102             1006\n",
              "4     andaman-&-nicobar-islands  2018        1  744104              272\n",
              "...                         ...   ...      ...     ...              ...\n",
              "8920                west-bengal  2024        1  700015           131676\n",
              "8921                west-bengal  2024        1  742304           127917\n",
              "8922                west-bengal  2024        1  721101           127891\n",
              "8923                west-bengal  2024        1  700150           123919\n",
              "8924                west-bengal  2024        1  700091           122985\n",
              "\n",
              "[8925 rows x 5 columns]"
            ]
          },
          "execution_count": 14,
          "metadata": {},
          "output_type": "execute_result"
        }
      ],
      "source": [
        "df_top_user"
      ]
    },
    {
      "cell_type": "markdown",
      "id": "6ef47900-8e16-43ae-bc6e-91c41bfe6008",
      "metadata": {
        "id": "6ef47900-8e16-43ae-bc6e-91c41bfe6008",
        "jp-MarkdownHeadingCollapsed": true,
        "tags": []
      },
      "source": [
        "## Converting Dataframes to CSV files"
      ]
    },
    {
      "cell_type": "code",
      "execution_count": 15,
      "id": "14b0d942-b868-40f2-b6e4-5b641ba03bd6",
      "metadata": {
        "id": "14b0d942-b868-40f2-b6e4-5b641ba03bd6"
      },
      "outputs": [],
      "source": [
        "df_agg_trans.to_csv('agg_trans.csv',index=False)\n",
        "df_agg_user.to_csv('agg_user.csv',index=False)\n",
        "df_map_trans.to_csv('map_trans.csv',index=False)\n",
        "df_map_user.to_csv('map_user.csv',index=False)\n",
        "df_top_trans.to_csv('top_trans.csv',index=False)\n",
        "df_top_user.to_csv('top_user.csv',index=False)"
      ]
    },
    {
      "cell_type": "markdown",
      "id": "88afc952-7d23-48d5-8b81-5278cebf388f",
      "metadata": {
        "id": "88afc952-7d23-48d5-8b81-5278cebf388f",
        "tags": []
      },
      "source": [
        "# Creating connection with MySQL"
      ]
    },
    {
      "cell_type": "markdown",
      "id": "d2e2361f-124d-408e-b81e-f6aa663b5d4c",
      "metadata": {
        "id": "d2e2361f-124d-408e-b81e-f6aa663b5d4c",
        "jp-MarkdownHeadingCollapsed": true,
        "tags": []
      },
      "source": [
        "### Connecting with SQL"
      ]
    },
    {
      "cell_type": "code",
      "execution_count": 16,
      "id": "57d50487-be1f-4c46-94bd-dd973fe6f3fe",
      "metadata": {
        "id": "57d50487-be1f-4c46-94bd-dd973fe6f3fe"
      },
      "outputs": [],
      "source": [
        "mydb = sql.connect(host=\"localhost\",\n",
        "                   user=\"admin\",\n",
        "                   password=\"123\",\n",
        "                   database= \"phonepe\"\n",
        "                  )\n",
        "mycursor = mydb.cursor(buffered=True)"
      ]
    },
    {
      "cell_type": "markdown",
      "id": "c5c12889-3681-40ef-afe3-e2572afa2cc2",
      "metadata": {
        "id": "c5c12889-3681-40ef-afe3-e2572afa2cc2",
        "jp-MarkdownHeadingCollapsed": true,
        "tags": []
      },
      "source": [
        "### Creating a new Database and tables"
      ]
    },
    {
      "cell_type": "code",
      "execution_count": null,
      "id": "feda9ef1-6484-49ed-a354-1fae48867f1a",
      "metadata": {
        "id": "feda9ef1-6484-49ed-a354-1fae48867f1a"
      },
      "outputs": [],
      "source": [
        "# mycursor.execute(\"CREATE DATABASE phonepe_pulse\")"
      ]
    },
    {
      "cell_type": "markdown",
      "id": "587c7c46-9cb0-4fe3-9f5f-802a94f148d3",
      "metadata": {
        "id": "587c7c46-9cb0-4fe3-9f5f-802a94f148d3",
        "jp-MarkdownHeadingCollapsed": true,
        "tags": []
      },
      "source": [
        "### Creating agg_trans table"
      ]
    },
    {
      "cell_type": "code",
      "execution_count": 17,
      "id": "cbdd838b-378c-4b0f-969a-a126a97bf357",
      "metadata": {
        "id": "cbdd838b-378c-4b0f-969a-a126a97bf357"
      },
      "outputs": [],
      "source": [
        "mycursor.execute(\"create table agg_trans (State varchar(100), Year int, Quarter int, Transaction_type varchar(100), Transaction_count int, Transaction_amount double)\")\n",
        "\n",
        "for i,row in df_agg_trans.iterrows():\n",
        "    #here %S means string values\n",
        "    sql = \"INSERT INTO agg_trans VALUES (%s,%s,%s,%s,%s,%s)\"\n",
        "    mycursor.execute(sql, tuple(row))\n",
        "    # the connection is not auto committed by default, so we must commit to save our changes\n",
        "    mydb.commit()"
      ]
    },
    {
      "cell_type": "markdown",
      "id": "87de1509-7e8c-4ba6-b8ec-e4cddcee41f6",
      "metadata": {
        "id": "87de1509-7e8c-4ba6-b8ec-e4cddcee41f6",
        "jp-MarkdownHeadingCollapsed": true,
        "tags": []
      },
      "source": [
        "### Creating agg_user table"
      ]
    },
    {
      "cell_type": "code",
      "execution_count": 18,
      "id": "ff0f9395-98b1-4c84-9d48-1f7f8c40a96c",
      "metadata": {
        "id": "ff0f9395-98b1-4c84-9d48-1f7f8c40a96c"
      },
      "outputs": [],
      "source": [
        "mycursor.execute(\"create table agg_user (State varchar(100), Year int, Quarter int, Brands varchar(100), Count int, Percentage double)\")\n",
        "\n",
        "for i,row in df_agg_user.iterrows():\n",
        "    sql = \"INSERT INTO agg_user VALUES (%s,%s,%s,%s,%s,%s)\"\n",
        "    mycursor.execute(sql, tuple(row))\n",
        "    mydb.commit()"
      ]
    },
    {
      "cell_type": "markdown",
      "id": "789caefe-39d3-4c41-80be-844701b6d5c5",
      "metadata": {
        "id": "789caefe-39d3-4c41-80be-844701b6d5c5",
        "jp-MarkdownHeadingCollapsed": true,
        "tags": []
      },
      "source": [
        "### Creating map_trans table"
      ]
    },
    {
      "cell_type": "code",
      "execution_count": 19,
      "id": "d58ba1b2-ff3f-4eb2-b193-d1ff8d9d9a5f",
      "metadata": {
        "id": "d58ba1b2-ff3f-4eb2-b193-d1ff8d9d9a5f"
      },
      "outputs": [],
      "source": [
        "mycursor.execute(\"create table map_trans (State varchar(100), Year int, Quarter int, District varchar(100), Count int, Amount double)\")\n",
        "\n",
        "for i,row in df_map_trans.iterrows():\n",
        "    sql = \"INSERT INTO map_trans VALUES (%s,%s,%s,%s,%s,%s)\"\n",
        "    mycursor.execute(sql, tuple(row))\n",
        "    mydb.commit()"
      ]
    },
    {
      "cell_type": "markdown",
      "id": "e603b7aa-162a-41ee-88f3-f7be1de541a6",
      "metadata": {
        "id": "e603b7aa-162a-41ee-88f3-f7be1de541a6",
        "jp-MarkdownHeadingCollapsed": true,
        "tags": []
      },
      "source": [
        "### Creating map_user table"
      ]
    },
    {
      "cell_type": "code",
      "execution_count": 20,
      "id": "e08b1e3f-81e7-4131-ba86-f86dd170faa0",
      "metadata": {
        "id": "e08b1e3f-81e7-4131-ba86-f86dd170faa0"
      },
      "outputs": [],
      "source": [
        "mycursor.execute(\"create table map_user (State varchar(100), Year int, Quarter int, District varchar(100), Registered_user int, App_opens int)\")\n",
        "\n",
        "for i,row in df_map_user.iterrows():\n",
        "    sql = \"INSERT INTO map_user VALUES (%s,%s,%s,%s,%s,%s)\"\n",
        "    mycursor.execute(sql, tuple(row))\n",
        "    mydb.commit()"
      ]
    },
    {
      "cell_type": "markdown",
      "id": "25506714-b67c-4d96-a8cd-57eb390bfadb",
      "metadata": {
        "id": "25506714-b67c-4d96-a8cd-57eb390bfadb",
        "jp-MarkdownHeadingCollapsed": true,
        "tags": []
      },
      "source": [
        "### Creating top_trans table"
      ]
    },
    {
      "cell_type": "code",
      "execution_count": 21,
      "id": "a2f80c00-e218-4c24-8a07-861480cf28c7",
      "metadata": {
        "id": "a2f80c00-e218-4c24-8a07-861480cf28c7"
      },
      "outputs": [],
      "source": [
        "mycursor.execute(\"create table top_trans (State varchar(100), Year int, Quarter int, Pincode int, Transaction_count int, Transaction_amount double)\")\n",
        "\n",
        "for i,row in df_top_trans.iterrows():\n",
        "    sql = \"INSERT INTO top_trans VALUES (%s,%s,%s,%s,%s,%s)\"\n",
        "    mycursor.execute(sql, tuple(row))\n",
        "    mydb.commit()"
      ]
    },
    {
      "cell_type": "markdown",
      "id": "abb8659d-a1bf-494d-bf85-f8279e5b0a06",
      "metadata": {
        "id": "abb8659d-a1bf-494d-bf85-f8279e5b0a06",
        "jp-MarkdownHeadingCollapsed": true,
        "tags": []
      },
      "source": [
        "### Creating top_user table"
      ]
    },
    {
      "cell_type": "code",
      "execution_count": 22,
      "id": "fb20dd8b-61ce-4148-8bcf-bceb30cb79d6",
      "metadata": {
        "id": "fb20dd8b-61ce-4148-8bcf-bceb30cb79d6"
      },
      "outputs": [],
      "source": [
        "mycursor.execute(\"create table top_user (State varchar(100), Year int, Quarter int, Pincode int, Registered_users int)\")\n",
        "\n",
        "for i,row in df_top_user.iterrows():\n",
        "    sql = \"INSERT INTO top_user VALUES (%s,%s,%s,%s,%s)\"\n",
        "    mycursor.execute(sql, tuple(row))\n",
        "    mydb.commit()"
      ]
    },
    {
      "cell_type": "markdown",
      "id": "89aab829-3d07-4a7e-85df-7b8f242df1b0",
      "metadata": {
        "id": "89aab829-3d07-4a7e-85df-7b8f242df1b0",
        "jp-MarkdownHeadingCollapsed": true,
        "tags": []
      },
      "source": [
        "### List of tables"
      ]
    },
    {
      "cell_type": "code",
      "execution_count": 23,
      "id": "4b64439f-c4d9-468c-aa97-8bbdbbebdd46",
      "metadata": {
        "id": "4b64439f-c4d9-468c-aa97-8bbdbbebdd46",
        "outputId": "ba50a839-e0b1-4e20-f26d-0e7eaab754f8"
      },
      "outputs": [
        {
          "data": {
            "text/plain": [
              "[('agg_trans',),\n",
              " ('agg_user',),\n",
              " ('map_trans',),\n",
              " ('map_user',),\n",
              " ('top_trans',),\n",
              " ('top_user',)]"
            ]
          },
          "execution_count": 23,
          "metadata": {},
          "output_type": "execute_result"
        }
      ],
      "source": [
        "mycursor.execute(\"show tables\")\n",
        "mycursor.fetchall()"
      ]
    },
    {
      "cell_type": "code",
      "execution_count": null,
      "id": "55688695-6209-4157-94fb-ba044bb22d7d",
      "metadata": {
        "id": "55688695-6209-4157-94fb-ba044bb22d7d"
      },
      "outputs": [],
      "source": []
    }
  ],
  "metadata": {
    "colab": {
      "provenance": []
    },
    "kernelspec": {
      "display_name": "Python 3 (ipykernel)",
      "language": "python",
      "name": "python3"
    },
    "language_info": {
      "codemirror_mode": {
        "name": "ipython",
        "version": 3
      },
      "file_extension": ".py",
      "mimetype": "text/x-python",
      "name": "python",
      "nbconvert_exporter": "python",
      "pygments_lexer": "ipython3",
      "version": "3.8.6"
    }
  },
  "nbformat": 4,
  "nbformat_minor": 5
}
